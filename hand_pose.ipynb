{
    "cells": [
        {
            "cell_type": "code",
            "execution_count": 1,
            "source": [
                "import cv2\n",
                "import mediapipe as mp\n",
                "import numpy as np\n",
                "import csv\n",
                "import os"
            ],
            "outputs": [],
            "metadata": {}
        },
        {
            "cell_type": "code",
            "execution_count": 2,
            "source": [
                "mp_drawing = mp.solutions.drawing_utils\n",
                "mp_holistic = mp.solutions.holistic\n",
                "mp_pose= mp.solutions.pose"
            ],
            "outputs": [],
            "metadata": {}
        },
        {
            "cell_type": "code",
            "execution_count": 3,
            "source": [
                "cap = cv2.VideoCapture(0)\n",
                "# Initiate holistic model\n",
                "with mp_holistic.Holistic(min_detection_confidence=0.5, min_tracking_confidence=0.5) as holistic:\n",
                "    \n",
                "    while cap.isOpened():\n",
                "        ret, frame = cap.read()\n",
                "        \n",
                "        # Recolor Feed\n",
                "        image = cv2.cvtColor(frame, cv2.COLOR_BGR2RGB)\n",
                "        image.flags.writeable = False        \n",
                "        \n",
                "        # Make Detections\n",
                "        results = holistic.process(image)\n",
                "        # print(results.face_landmarks)\n",
                "        \n",
                "        # face_landmarks, pose_landmarks, left_hand_landmarks, right_hand_landmarks\n",
                "        \n",
                "        # Recolor image back to BGR for rendering\n",
                "        image.flags.writeable = True   \n",
                "        image = cv2.cvtColor(image, cv2.COLOR_RGB2BGR)\n",
                "        \n",
                "\n",
                "        \n",
                "        # 2. Right hand\n",
                "        mp_drawing.draw_landmarks(image, results.right_hand_landmarks, mp_holistic.HAND_CONNECTIONS, \n",
                "                                 mp_drawing.DrawingSpec(color=(80,22,10), thickness=2, circle_radius=4),\n",
                "                                 mp_drawing.DrawingSpec(color=(80,44,121), thickness=2, circle_radius=2)\n",
                "                                 )\n",
                "\n",
                "        # 3. Left Hand\n",
                "        mp_drawing.draw_landmarks(image, results.left_hand_landmarks, mp_holistic.HAND_CONNECTIONS, \n",
                "                                 mp_drawing.DrawingSpec(color=(121,22,76), thickness=2, circle_radius=4),\n",
                "                                 mp_drawing.DrawingSpec(color=(121,44,250), thickness=2, circle_radius=2)\n",
                "                                 )\n",
                "\n",
                "        # 4. Pose Detections\n",
                "        mp_drawing.draw_landmarks(image, results.pose_landmarks, mp_holistic.POSE_CONNECTIONS, \n",
                "                                 mp_drawing.DrawingSpec(color=(245,117,66), thickness=2, circle_radius=4),\n",
                "                                 mp_drawing.DrawingSpec(color=(245,66,230), thickness=2, circle_radius=2)\n",
                "                                 )\n",
                "     # Export coordinates\n",
                "        try:\n",
                "            # Extract Pose landmarks\n",
                "            pose = results.pose_landmarks.landmark\n",
                "            pose_row = list(np.array([[landmark.x, landmark.y, landmark.z, landmark.visibility] for landmark in pose]).flatten())\n",
                "            \n",
                "    \n",
                "            # Concate rows\n",
                "            row = pose_row\n",
                "            \n",
                "            # Append class name \n",
                "            class_name = \"hello\"\n",
                "            row.insert(0, class_name)\n",
                "\n",
                "        \n",
                "            # Export to CSV\n",
                "            with open('coords.csv', mode='a', newline='') as f:\n",
                "                csv_writer = csv.writer(f, delimiter=',', quotechar='\"', quoting=csv.QUOTE_MINIMAL)\n",
                "                csv_writer.writerow(row) \n",
                "            \n",
                "        except:\n",
                "            pass\n",
                "       \n",
                "                        \n",
                "        cv2.imshow('Raw Webcam Feed', image)\n",
                "\n",
                "        if cv2.waitKey(10) & 0xFF == ord('q'):\n",
                "            break"
            ],
            "outputs": [],
            "metadata": {}
        },
        {
            "cell_type": "code",
            "execution_count": null,
            "source": [
                "import pandas as pd\n",
                "\n",
                "df = pd.read_csv('coords.csv')"
            ],
            "outputs": [
                {
                    "output_type": "error",
                    "ename": "Error",
                    "evalue": "Session cannot generate requests",
                    "traceback": [
                        "Error: Session cannot generate requests",
                        "at w.executeCodeCell (/Users/donghokim/.vscode/extensions/ms-toolsai.jupyter-2021.8.1195043623/out/client/extension.js:90:325139)",
                        "at w.execute (/Users/donghokim/.vscode/extensions/ms-toolsai.jupyter-2021.8.1195043623/out/client/extension.js:90:324460)",
                        "at w.start (/Users/donghokim/.vscode/extensions/ms-toolsai.jupyter-2021.8.1195043623/out/client/extension.js:90:320276)",
                        "at runMicrotasks (<anonymous>)",
                        "at processTicksAndRejections (internal/process/task_queues.js:93:5)",
                        "at async t.CellExecutionQueue.executeQueuedCells (/Users/donghokim/.vscode/extensions/ms-toolsai.jupyter-2021.8.1195043623/out/client/extension.js:90:334803)",
                        "at async t.CellExecutionQueue.start (/Users/donghokim/.vscode/extensions/ms-toolsai.jupyter-2021.8.1195043623/out/client/extension.js:90:334343)"
                    ]
                }
            ],
            "metadata": {}
        },
        {
            "cell_type": "code",
            "execution_count": null,
            "source": [],
            "outputs": [],
            "metadata": {}
        }
    ],
    "metadata": {
        "orig_nbformat": 4,
        "language_info": {
            "name": "python",
            "version": "3.8.8",
            "mimetype": "text/x-python",
            "codemirror_mode": {
                "name": "ipython",
                "version": 3
            },
            "pygments_lexer": "ipython3",
            "nbconvert_exporter": "python",
            "file_extension": ".py"
        },
        "kernelspec": {
            "name": "python3",
            "display_name": "Python 3.8.8 64-bit ('base': conda)"
        },
        "interpreter": {
            "hash": "dca0ade3e726a953b501b15e8e990130d2b7799f14cfd9f4271676035ebe5511"
        }
    },
    "nbformat": 4,
    "nbformat_minor": 2
}